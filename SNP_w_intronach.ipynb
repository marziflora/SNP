{
 "cells": [
  {
   "cell_type": "code",
   "execution_count": 14,
   "metadata": {},
   "outputs": [],
   "source": [
    "import re\n",
    "import time\n",
    "import re\n",
    "import os\n",
    "import pandas as pd"
   ]
  },
  {
   "cell_type": "code",
   "execution_count": 155,
   "metadata": {},
   "outputs": [
    {
     "data": {
      "text/plain": [
       "'C:/Users/marze/Marzena/Priv'"
      ]
     },
     "execution_count": 155,
     "metadata": {},
     "output_type": "execute_result"
    }
   ],
   "source": [
    "path_abs = os.path.abspath(os.getcwd()).replace(\"\\\\\", \"/\")\n",
    "path_abs"
   ]
  },
  {
   "cell_type": "markdown",
   "metadata": {},
   "source": [
    "# Filter exons, introns, 3-UTR, 5-UTR in reference genome UMD 3.1.gff3\n"
   ]
  },
  {
   "cell_type": "code",
   "execution_count": null,
   "metadata": {},
   "outputs": [],
   "source": [
    "place = [\"exon\", \"intron\", \"three_prime_UTR\", \"five_prime_UTR\"]\n",
    "\n",
    "t0 = time.time()\n",
    "path = path_abs + \"/Bos_taurus.UMD3.1.94.gff3\"  #plik ze wszystkimi chromosomami: 120 MB\n",
    "with open(path, \"r\") as f:\n",
    "    for line in f:  #wczytuj po linijce\n",
    "        if line[0].isdigit() or line[0] == 'X' or line[0:2] == 'MT':  #jeżeli 1 znak jest cyfrą (chromosom) / X / MT\n",
    "            l = [num for num in line.split('\\t')]  # dzieli linijkę na wyrazy przedzielone tabulatorem\n",
    "            for i in place:\n",
    "                p = bool(re.search(i, l[2]))  #logiczna zmienna: Czy jest exon w 3 kolumnie?\n",
    "                if p == True:  #jeżeli znajdzie:\n",
    "                    name = f'files/{i}.txt'\n",
    "                    r = open(name, \"a\") #Zapisz w nowym pliku\n",
    "                    pattern = \"exon_id=ENSBTAE\\d{5,12}\"\n",
    "                    m = (re.findall(pattern, line))\n",
    "                    l[8] = str(\"\".join(map(str, m)))\n",
    "                    string = \" \".join(l[0:9])\n",
    "                    string = string + \" \\n\"\n",
    "                    r.write(string) #niech zapisuje tylko kolumny 1-8\n",
    "\n",
    "t1 = time.time()\n",
    "t=(t1-t0)/60\n",
    "print(\"Time:\", t, \"min\")  #0.5min"
   ]
  },
  {
   "cell_type": "code",
   "execution_count": 159,
   "metadata": {},
   "outputs": [
    {
     "data": {
      "text/plain": [
       "(['C:/Users/marze/Marzena/Priv/duplikacje/BSWUSAM000000191362_dup.txt',\n",
       "  'C:/Users/marze/Marzena/Priv/duplikacje/BSWUSAM000000193323_dup.txt'],\n",
       " ['C:/Users/marze/Marzena/Priv/files/exon.txt',\n",
       "  'C:/Users/marze/Marzena/Priv/files/five_prime_UTR.txt',\n",
       "  'C:/Users/marze/Marzena/Priv/files/three_prime_UTR.txt'])"
      ]
     },
     "execution_count": 159,
     "metadata": {},
     "output_type": "execute_result"
    }
   ],
   "source": [
    "path_dupplications = [path_abs+'/duplikacje/'+file for file in os.listdir(\"duplikacje\")] #Duplikacje\n",
    "path_place = [path_abs+'/files/'+file for file in os.listdir(\"files\")]\n",
    "path_dupplications,path_place"
   ]
  },
  {
   "cell_type": "markdown",
   "metadata": {},
   "source": [
    "# Filter duplications in exons, introns, 3-UTR, 5-UTR"
   ]
  },
  {
   "cell_type": "code",
   "execution_count": null,
   "metadata": {},
   "outputs": [],
   "source": [
    "t0 = time.time()\n",
    "\n",
    "for i in path_place:\n",
    "    for j in path_dupplications:\n",
    "        with open(j, \"r\") as d: #otwórz duplikacje/introny/UTR3/UTR5\n",
    "            for lined in d: #dla każdej linijki\n",
    "                ld = [num for num in lined.split(' ')] #duplikacje\n",
    "                with open(i, \"r\") as e:   \n",
    "                    for linee in e: #sprawdź każdą linijkę exonów\n",
    "                        le = [num for num in linee.split(' ')] #exony\n",
    "                        if ld[0] == le[0]: #jeżeli chromosom duplikacji i exonu się zgadza sprawdzaj dalej:\n",
    "\n",
    "                            if int(le[3]) <= int(ld[1]) <= int(le[4]) and int(le[3]) <= int(ld[2]) <= int(le[4]):  #duplikacja rozpoczyna się po rozpoczęciu exonu i kończy przed zakończeniem exonu\n",
    "                                name = f'Dupplications in {i.split(\"/\")[-1].split(\".\")[0]} {j.split(\"/\")[-1].split(\".\")[0]}.txt'\n",
    "                                r = open(name, \"a\")\n",
    "                                ld[4] = 'Inside' #4 kolumna jako opis\n",
    "                                ld[3] = le[8]\n",
    "                                string = \" \".join(ld[0:5])+\"\\n\"\n",
    "                                print(ld[0:5])\n",
    "                                r.write(string)\n",
    "\n",
    "                            if int(le[3]) <= int(ld[1]) < int(le[4]) < int(ld[2]):    #rozpoczyna się po rozpoczęciu exonu ale kończy się po zakończeniu exonu\n",
    "                                name = f'Dupplications in {i.split(\"/\")[-1].split(\".\")[0]} {j.split(\"/\")[-1].split(\".\")[0]}.txt'\n",
    "                                ld[2] = le[4]  #Podmiana końca duplikacji\n",
    "                                ld[4] = 'Cut from right side'\n",
    "                                ld[3] = le[8]\n",
    "                                r = open(name, \"a\")\n",
    "                                print(ld[0:5])\n",
    "                                string = \" \".join(ld[0:5])+\"\\n\"\n",
    "                                r.write(string)\n",
    "\n",
    "                            if int(ld[1]) < int(le[3]) < int(ld[2]) <= int(le[4]):  #duplikacja rozpoczyna się przed rozpoczęciem exonu i kończy się przed zakończeniem exonu\n",
    "                                ld[1] = le[3]  #Podmiana początku duplikacji\n",
    "                                name = f'Dupplications in {i.split(\"/\")[-1].split(\".\")[0]} {j.split(\"/\")[-1].split(\".\")[0]}.txt'\n",
    "                                r = open(name, \"a\")\n",
    "                                ld[4] = 'Cut from left side'\n",
    "                                ld[3] = le[8]\n",
    "                                string = \" \".join(ld[0:5])+\"\\n\"\n",
    "                                print(ld[0:5])\n",
    "                                r.write(string)\n",
    "\n",
    "                            if int(le[3]) > int(ld[1]) and int(le[3]) > int(ld[2]) > int(le[4]): #duplikacja rozpoczyna się przed rozpoczęciem exonu i kończy po zakończeniu exonu\n",
    "                                name = f'Dupplications in {i.split(\"/\")[-1].split(\".\")[0]} {j.split(\"/\")[-1].split(\".\")[0]}.txt'\n",
    "                                ld[2] = le[4]  #Podmiana końca duplikacji\n",
    "                                ld[1] = le[3] #Podmiana początku duplikacji\n",
    "                                r = open(name, \"a\")\n",
    "                                ld[4] = 'Cut from both sides'\n",
    "                                ld[3] = le[8]\n",
    "                                string = \" \".join(ld[0:5])+\"\\n\"\n",
    "                                print(ld[0:5])\n",
    "                                r.write(string)\n",
    "                                \n",
    "t1 = time.time()\n",
    "t=(t1-t0)/60\n",
    "print(\"Time:\", t, \"min\")  #13 min"
   ]
  },
  {
   "cell_type": "markdown",
   "metadata": {},
   "source": [
    "# SNP (Single Nucleotide Polymorphism) in duplications (in exons, introns, 3-UTR or 5-UTR)"
   ]
  },
  {
   "cell_type": "code",
   "execution_count": null,
   "metadata": {},
   "outputs": [],
   "source": [
    "path_SNP = [path_abs+\"/1.SNP i duplikacje/BSWUSAM000000193323.vcf\", path_abs+\"1.SNP i duplikacje/BSWUSAM000000191362.vcf\"]       \n",
    "\n",
    "with open(path_SNP[0], \"r\") as d: \n",
    "    for lined in d:\n",
    "        line = [num for num in lined.split('\\t')]\n",
    "        try:\n",
    "            print(line[0], line[3:5], line[7])\n",
    "        except:\n",
    "            pass\n",
    "#         ld = [num for num in lined.split(' ')] \n",
    "#         print(ld)"
   ]
  },
  {
   "cell_type": "code",
   "execution_count": 3,
   "metadata": {},
   "outputs": [
    {
     "name": "stdout",
     "output_type": "stream",
     "text": [
      "Time: 13.547259982426961 min\n"
     ]
    }
   ],
   "source": [
    "t0 = time.time()\n",
    "\n",
    "path_SNP = [path_abs+\"/1.SNP i duplikacje/BSWUSAM000000193323.vcf\", path_abs+\"1.SNP i duplikacje/BSWUSAM000000191362.vcf\"]       \n",
    "path_place = [path_abs+\"/Duplication in regions/\"+file for file in os.listdir(\"Duplication in regions\")]\n",
    "\n",
    "for i in path_place:\n",
    "    with open(i, \"r\") as d: #otwórz duplikacje w exonach\n",
    "        for lined in d:\n",
    "            ld = [num for num in lined.split(' ')] #duplikacje\n",
    "            for j in path_SNP:\n",
    "                with open(j, \"r\") as e:  #otwórz SNP\n",
    "                    for linee in e: #sprawdź każdą linijkę SNP\n",
    "                        snp = [num for num in linee.split('\\t')] #snp rozdzielenie\n",
    "                        if snp[0][3].isdigit() or snp[0] == 'X' or snp[0:2] == 'MT':  # jeżeli 1 znak jest cyfrą (chromosom) / X / MT\n",
    "                            if snp[0][3:5] == ld[0]: #jeżeli chromosom duplikacji i snp się zgadza sprawdzaj dalej:\n",
    "                                if int(ld[1]) <= int( snp[1]) <= int(ld[2]):  #jeżeli SNP mieści się w zakresie od początku duplikacji do jej końca:\n",
    "                                    name = f'SNP in {i.split(\"/\")[-1].split(\".\")[0]} {j.split(\"/\")[-1].split(\".\")[0]}.txt'\n",
    "                                    r = open(name, \"a\")\n",
    "                                    string = \" \".join(ld[0:4]) + \" \" + snp[1] + \" \" + \" \".join(snp[3:5]) + \" \" + snp[7] + \"\\n\"\n",
    "#                                     print(string)\n",
    "                                    r.write(string)\n",
    "                                    \n",
    "t1 = time.time()\n",
    "t=(t1-t0)/60\n",
    "print(\"Time:\", t, \"min\")  #13 min"
   ]
  },
  {
   "cell_type": "markdown",
   "metadata": {},
   "source": [
    "# Analysis"
   ]
  },
  {
   "cell_type": "code",
   "execution_count": 162,
   "metadata": {},
   "outputs": [
    {
     "data": {
      "text/plain": [
       "['C:/Users/marze/Marzena/Priv/SNP in duplications in regions/SNP in Dupplications in exon BSWUSAM000000191362_dup BSWUSAM000000191362.txt',\n",
       " 'C:/Users/marze/Marzena/Priv/SNP in duplications in regions/SNP in Dupplications in exon BSWUSAM000000191362_dup BSWUSAM000000193323.txt',\n",
       " 'C:/Users/marze/Marzena/Priv/SNP in duplications in regions/SNP in Dupplications in exon BSWUSAM000000193323_dup BSWUSAM000000191362.txt',\n",
       " 'C:/Users/marze/Marzena/Priv/SNP in duplications in regions/SNP in Dupplications in exon BSWUSAM000000193323_dup BSWUSAM000000193323.txt',\n",
       " 'C:/Users/marze/Marzena/Priv/SNP in duplications in regions/SNP in Dupplications in three_prime_UTR BSWUSAM000000191362_dup BSWUSAM000000191362.txt',\n",
       " 'C:/Users/marze/Marzena/Priv/SNP in duplications in regions/SNP in Dupplications in three_prime_UTR BSWUSAM000000191362_dup BSWUSAM000000193323.txt',\n",
       " 'C:/Users/marze/Marzena/Priv/SNP in duplications in regions/SNP in Dupplications in three_prime_UTR BSWUSAM000000193323_dup BSWUSAM000000191362.txt',\n",
       " 'C:/Users/marze/Marzena/Priv/SNP in duplications in regions/SNP in Dupplications in three_prime_UTR BSWUSAM000000193323_dup BSWUSAM000000193323.txt']"
      ]
     },
     "execution_count": 162,
     "metadata": {},
     "output_type": "execute_result"
    }
   ],
   "source": [
    "path_snp = [path_abs+\"/SNP in duplications in regions/\"+file for file in os.listdir(\"SNP in duplications in regions\")]\n",
    "path_snp"
   ]
  },
  {
   "cell_type": "code",
   "execution_count": 150,
   "metadata": {},
   "outputs": [
    {
     "name": "stdout",
     "output_type": "stream",
     "text": [
      "    Chr     Start       End                          ID  SNP_place Ref Alt  DP\n",
      "58   29  27904501  27904742  exon_id=ENSBTAE00000480077   27904610   A   G  10\n",
      "59   29  27904501  27904742  exon_id=ENSBTAE00000480077   27904618   C   T  10\n",
      "60   29  27904501  27904742  exon_id=ENSBTAE00000480077   27904619   C   T  10\n",
      "61   29  27904501  27904742  exon_id=ENSBTAE00000480077   27904620   A   T  10\n",
      "62   29  27904501  27904742  exon_id=ENSBTAE00000480077   27904625   T   C   9\n",
      "63   29  27904501  27904742  exon_id=ENSBTAE00000480077   27904630   G   C   9\n",
      "64   29  27904501  27904742  exon_id=ENSBTAE00000480077   27904631   G   A   9\n"
     ]
    }
   ],
   "source": [
    "for i in path_snp:\n",
    "    df = pd.read_csv(i, header=None, sep=\" \")\n",
    "    df.columns = [\"Chr\", \"Start\", \"End\", \"ID\", \"SNP_place\", \"Ref\", \"Alt\", \"DP\"]\n",
    "    df['DP'] = df.DP.str.extract(r'([D][P][=][0-9]*)')\n",
    "    x = df.DP.str.split(\"=\", expand=True)\n",
    "    df.DP = x[1].astype(int)\n",
    "    df_less = df[df.DP <= 10]\n",
    "    if len(df_less) != 0:\n",
    "        print(df_less)\n",
    "#     print(i, df.size)"
   ]
  },
  {
   "cell_type": "code",
   "execution_count": 153,
   "metadata": {},
   "outputs": [
    {
     "data": {
      "text/plain": [
       "'C:/Users/marze/Marzena/Priv'"
      ]
     },
     "execution_count": 153,
     "metadata": {},
     "output_type": "execute_result"
    }
   ],
   "source": []
  }
 ],
 "metadata": {
  "kernelspec": {
   "display_name": "Python 3",
   "language": "python",
   "name": "python3"
  },
  "language_info": {
   "codemirror_mode": {
    "name": "ipython",
    "version": 3
   },
   "file_extension": ".py",
   "mimetype": "text/x-python",
   "name": "python",
   "nbconvert_exporter": "python",
   "pygments_lexer": "ipython3",
   "version": "3.7.4"
  },
  "toc": {
   "base_numbering": 1,
   "nav_menu": {},
   "number_sections": true,
   "sideBar": true,
   "skip_h1_title": false,
   "title_cell": "Table of Contents",
   "title_sidebar": "Contents",
   "toc_cell": false,
   "toc_position": {},
   "toc_section_display": true,
   "toc_window_display": false
  }
 },
 "nbformat": 4,
 "nbformat_minor": 2
}
